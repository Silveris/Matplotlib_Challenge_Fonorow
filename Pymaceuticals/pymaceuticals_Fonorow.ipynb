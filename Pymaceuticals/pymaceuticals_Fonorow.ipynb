{
 "cells": [
  {
   "cell_type": "code",
   "execution_count": 1,
   "metadata": {},
   "outputs": [],
   "source": [
    "# # Observations and Insights : \n",
    "\n",
    "# The two drugs that were shown to reduce the tumor volume\n",
    "# had the most datapoints on the bar graph. probably because \n",
    "# they had the mice that lived longest on average?\n",
    "\n",
    "# In the top 4 most promising drugs, the gap between\n",
    "# number 2 (Capomulin : 8.332432) and\n",
    "# number 4 (Propriva\t:-11.736964) is the bigest change\n",
    "# in effectiveness between any 2 drugs at 20.07 average\n",
    "# change in tumor volume\n",
    "\n",
    "# There seems to be a weak correlation between the mice's \n",
    "# weight and the volume of their tumors. as the weight \n",
    "# incressed, the max tumor volume stayed relitivly stable\n",
    "# while the minimum tumor volume rose from ~23 mm^3 to almost\n",
    "# double that at ~40 mm^3\n"
   ]
  },
  {
   "cell_type": "code",
   "execution_count": 2,
   "metadata": {},
   "outputs": [
    {
     "data": {
      "text/html": [
       "<div>\n",
       "<style scoped>\n",
       "    .dataframe tbody tr th:only-of-type {\n",
       "        vertical-align: middle;\n",
       "    }\n",
       "\n",
       "    .dataframe tbody tr th {\n",
       "        vertical-align: top;\n",
       "    }\n",
       "\n",
       "    .dataframe thead th {\n",
       "        text-align: right;\n",
       "    }\n",
       "</style>\n",
       "<table border=\"1\" class=\"dataframe\">\n",
       "  <thead>\n",
       "    <tr style=\"text-align: right;\">\n",
       "      <th></th>\n",
       "      <th>Mouse ID</th>\n",
       "      <th>Drug Regimen</th>\n",
       "      <th>Sex</th>\n",
       "      <th>Age_months</th>\n",
       "      <th>Weight (g)</th>\n",
       "      <th>Timepoint</th>\n",
       "      <th>Tumor Volume (mm3)</th>\n",
       "      <th>Metastatic Sites</th>\n",
       "    </tr>\n",
       "  </thead>\n",
       "  <tbody>\n",
       "    <tr>\n",
       "      <th>0</th>\n",
       "      <td>k403</td>\n",
       "      <td>Ramicane</td>\n",
       "      <td>Male</td>\n",
       "      <td>21</td>\n",
       "      <td>16</td>\n",
       "      <td>0</td>\n",
       "      <td>45.000000</td>\n",
       "      <td>0</td>\n",
       "    </tr>\n",
       "    <tr>\n",
       "      <th>1</th>\n",
       "      <td>k403</td>\n",
       "      <td>Ramicane</td>\n",
       "      <td>Male</td>\n",
       "      <td>21</td>\n",
       "      <td>16</td>\n",
       "      <td>5</td>\n",
       "      <td>38.825898</td>\n",
       "      <td>0</td>\n",
       "    </tr>\n",
       "    <tr>\n",
       "      <th>2</th>\n",
       "      <td>k403</td>\n",
       "      <td>Ramicane</td>\n",
       "      <td>Male</td>\n",
       "      <td>21</td>\n",
       "      <td>16</td>\n",
       "      <td>10</td>\n",
       "      <td>35.014271</td>\n",
       "      <td>1</td>\n",
       "    </tr>\n",
       "    <tr>\n",
       "      <th>3</th>\n",
       "      <td>k403</td>\n",
       "      <td>Ramicane</td>\n",
       "      <td>Male</td>\n",
       "      <td>21</td>\n",
       "      <td>16</td>\n",
       "      <td>15</td>\n",
       "      <td>34.223992</td>\n",
       "      <td>1</td>\n",
       "    </tr>\n",
       "    <tr>\n",
       "      <th>4</th>\n",
       "      <td>k403</td>\n",
       "      <td>Ramicane</td>\n",
       "      <td>Male</td>\n",
       "      <td>21</td>\n",
       "      <td>16</td>\n",
       "      <td>20</td>\n",
       "      <td>32.997729</td>\n",
       "      <td>1</td>\n",
       "    </tr>\n",
       "    <tr>\n",
       "      <th>...</th>\n",
       "      <td>...</td>\n",
       "      <td>...</td>\n",
       "      <td>...</td>\n",
       "      <td>...</td>\n",
       "      <td>...</td>\n",
       "      <td>...</td>\n",
       "      <td>...</td>\n",
       "      <td>...</td>\n",
       "    </tr>\n",
       "    <tr>\n",
       "      <th>1888</th>\n",
       "      <td>z969</td>\n",
       "      <td>Naftisol</td>\n",
       "      <td>Male</td>\n",
       "      <td>9</td>\n",
       "      <td>30</td>\n",
       "      <td>25</td>\n",
       "      <td>63.145652</td>\n",
       "      <td>2</td>\n",
       "    </tr>\n",
       "    <tr>\n",
       "      <th>1889</th>\n",
       "      <td>z969</td>\n",
       "      <td>Naftisol</td>\n",
       "      <td>Male</td>\n",
       "      <td>9</td>\n",
       "      <td>30</td>\n",
       "      <td>30</td>\n",
       "      <td>65.841013</td>\n",
       "      <td>3</td>\n",
       "    </tr>\n",
       "    <tr>\n",
       "      <th>1890</th>\n",
       "      <td>z969</td>\n",
       "      <td>Naftisol</td>\n",
       "      <td>Male</td>\n",
       "      <td>9</td>\n",
       "      <td>30</td>\n",
       "      <td>35</td>\n",
       "      <td>69.176246</td>\n",
       "      <td>4</td>\n",
       "    </tr>\n",
       "    <tr>\n",
       "      <th>1891</th>\n",
       "      <td>z969</td>\n",
       "      <td>Naftisol</td>\n",
       "      <td>Male</td>\n",
       "      <td>9</td>\n",
       "      <td>30</td>\n",
       "      <td>40</td>\n",
       "      <td>70.314904</td>\n",
       "      <td>4</td>\n",
       "    </tr>\n",
       "    <tr>\n",
       "      <th>1892</th>\n",
       "      <td>z969</td>\n",
       "      <td>Naftisol</td>\n",
       "      <td>Male</td>\n",
       "      <td>9</td>\n",
       "      <td>30</td>\n",
       "      <td>45</td>\n",
       "      <td>73.867845</td>\n",
       "      <td>4</td>\n",
       "    </tr>\n",
       "  </tbody>\n",
       "</table>\n",
       "<p>1893 rows × 8 columns</p>\n",
       "</div>"
      ],
      "text/plain": [
       "     Mouse ID Drug Regimen   Sex  Age_months  Weight (g)  Timepoint  \\\n",
       "0        k403     Ramicane  Male          21          16          0   \n",
       "1        k403     Ramicane  Male          21          16          5   \n",
       "2        k403     Ramicane  Male          21          16         10   \n",
       "3        k403     Ramicane  Male          21          16         15   \n",
       "4        k403     Ramicane  Male          21          16         20   \n",
       "...       ...          ...   ...         ...         ...        ...   \n",
       "1888     z969     Naftisol  Male           9          30         25   \n",
       "1889     z969     Naftisol  Male           9          30         30   \n",
       "1890     z969     Naftisol  Male           9          30         35   \n",
       "1891     z969     Naftisol  Male           9          30         40   \n",
       "1892     z969     Naftisol  Male           9          30         45   \n",
       "\n",
       "      Tumor Volume (mm3)  Metastatic Sites  \n",
       "0              45.000000                 0  \n",
       "1              38.825898                 0  \n",
       "2              35.014271                 1  \n",
       "3              34.223992                 1  \n",
       "4              32.997729                 1  \n",
       "...                  ...               ...  \n",
       "1888           63.145652                 2  \n",
       "1889           65.841013                 3  \n",
       "1890           69.176246                 4  \n",
       "1891           70.314904                 4  \n",
       "1892           73.867845                 4  \n",
       "\n",
       "[1893 rows x 8 columns]"
      ]
     },
     "execution_count": 2,
     "metadata": {},
     "output_type": "execute_result"
    }
   ],
   "source": [
    "import scipy.stats as st\n",
    "import matplotlib.pyplot as plt\n",
    "import numpy as np\n",
    "import pandas as pd\n",
    "from scipy.stats import linregress\n",
    "# Study data files\n",
    "mouse_metadata = \"data/Mouse_metadata.csv\"\n",
    "study_results = \"data/Study_results.csv\"\n",
    "\n",
    "# Read the mouse data and the study results\n",
    "mouse_metadata = pd.read_csv(mouse_metadata)\n",
    "study_results = pd.read_csv(study_results)\n",
    "raw_df = pd.merge(mouse_metadata, study_results, on='Mouse ID', how='outer')\n",
    "raw_df"
   ]
  },
  {
   "cell_type": "code",
   "execution_count": 3,
   "metadata": {},
   "outputs": [
    {
     "data": {
      "text/html": [
       "<div>\n",
       "<style scoped>\n",
       "    .dataframe tbody tr th:only-of-type {\n",
       "        vertical-align: middle;\n",
       "    }\n",
       "\n",
       "    .dataframe tbody tr th {\n",
       "        vertical-align: top;\n",
       "    }\n",
       "\n",
       "    .dataframe thead th {\n",
       "        text-align: right;\n",
       "    }\n",
       "</style>\n",
       "<table border=\"1\" class=\"dataframe\">\n",
       "  <thead>\n",
       "    <tr style=\"text-align: right;\">\n",
       "      <th></th>\n",
       "      <th>Mean TV</th>\n",
       "      <th>Median TV</th>\n",
       "      <th>Variance TV</th>\n",
       "      <th>STD TV</th>\n",
       "      <th>SEM TV</th>\n",
       "    </tr>\n",
       "    <tr>\n",
       "      <th>Drug Regimen</th>\n",
       "      <th></th>\n",
       "      <th></th>\n",
       "      <th></th>\n",
       "      <th></th>\n",
       "      <th></th>\n",
       "    </tr>\n",
       "  </thead>\n",
       "  <tbody>\n",
       "    <tr>\n",
       "      <th>Capomulin</th>\n",
       "      <td>40.675741</td>\n",
       "      <td>41.557809</td>\n",
       "      <td>24.947764</td>\n",
       "      <td>4.994774</td>\n",
       "      <td>0.329346</td>\n",
       "    </tr>\n",
       "    <tr>\n",
       "      <th>Ceftamin</th>\n",
       "      <td>52.591172</td>\n",
       "      <td>51.776157</td>\n",
       "      <td>39.290177</td>\n",
       "      <td>6.268188</td>\n",
       "      <td>0.469821</td>\n",
       "    </tr>\n",
       "    <tr>\n",
       "      <th>Infubinol</th>\n",
       "      <td>52.884795</td>\n",
       "      <td>51.820584</td>\n",
       "      <td>43.128684</td>\n",
       "      <td>6.567243</td>\n",
       "      <td>0.492236</td>\n",
       "    </tr>\n",
       "    <tr>\n",
       "      <th>Ketapril</th>\n",
       "      <td>55.235638</td>\n",
       "      <td>53.698743</td>\n",
       "      <td>68.553577</td>\n",
       "      <td>8.279709</td>\n",
       "      <td>0.603860</td>\n",
       "    </tr>\n",
       "    <tr>\n",
       "      <th>Naftisol</th>\n",
       "      <td>54.331565</td>\n",
       "      <td>52.509285</td>\n",
       "      <td>66.173479</td>\n",
       "      <td>8.134708</td>\n",
       "      <td>0.596466</td>\n",
       "    </tr>\n",
       "    <tr>\n",
       "      <th>Placebo</th>\n",
       "      <td>54.033581</td>\n",
       "      <td>52.288934</td>\n",
       "      <td>61.168083</td>\n",
       "      <td>7.821003</td>\n",
       "      <td>0.581331</td>\n",
       "    </tr>\n",
       "    <tr>\n",
       "      <th>Propriva</th>\n",
       "      <td>52.322552</td>\n",
       "      <td>50.854632</td>\n",
       "      <td>42.351070</td>\n",
       "      <td>6.507770</td>\n",
       "      <td>0.512884</td>\n",
       "    </tr>\n",
       "    <tr>\n",
       "      <th>Ramicane</th>\n",
       "      <td>40.216745</td>\n",
       "      <td>40.673236</td>\n",
       "      <td>23.486704</td>\n",
       "      <td>4.846308</td>\n",
       "      <td>0.320955</td>\n",
       "    </tr>\n",
       "    <tr>\n",
       "      <th>Stelasyn</th>\n",
       "      <td>54.233149</td>\n",
       "      <td>52.431737</td>\n",
       "      <td>59.450562</td>\n",
       "      <td>7.710419</td>\n",
       "      <td>0.573111</td>\n",
       "    </tr>\n",
       "    <tr>\n",
       "      <th>Zoniferol</th>\n",
       "      <td>53.236507</td>\n",
       "      <td>51.818479</td>\n",
       "      <td>48.533355</td>\n",
       "      <td>6.966589</td>\n",
       "      <td>0.516398</td>\n",
       "    </tr>\n",
       "  </tbody>\n",
       "</table>\n",
       "</div>"
      ],
      "text/plain": [
       "                Mean TV  Median TV  Variance TV    STD TV    SEM TV\n",
       "Drug Regimen                                                       \n",
       "Capomulin     40.675741  41.557809    24.947764  4.994774  0.329346\n",
       "Ceftamin      52.591172  51.776157    39.290177  6.268188  0.469821\n",
       "Infubinol     52.884795  51.820584    43.128684  6.567243  0.492236\n",
       "Ketapril      55.235638  53.698743    68.553577  8.279709  0.603860\n",
       "Naftisol      54.331565  52.509285    66.173479  8.134708  0.596466\n",
       "Placebo       54.033581  52.288934    61.168083  7.821003  0.581331\n",
       "Propriva      52.322552  50.854632    42.351070  6.507770  0.512884\n",
       "Ramicane      40.216745  40.673236    23.486704  4.846308  0.320955\n",
       "Stelasyn      54.233149  52.431737    59.450562  7.710419  0.573111\n",
       "Zoniferol     53.236507  51.818479    48.533355  6.966589  0.516398"
      ]
     },
     "execution_count": 3,
     "metadata": {},
     "output_type": "execute_result"
    }
   ],
   "source": [
    "summary_base_df = raw_df.copy()\n",
    "summary_slim_df = summary_base_df.drop(['Mouse ID', 'Sex', 'Age_months',\n",
    "                                       'Weight (g)', 'Metastatic Sites',\n",
    "                                       'Timepoint'], axis=1).copy()\n",
    "tumor_summary_base_df = summary_slim_df.copy()\n",
    "tumor_summary_base_df['Mean TV'] = summary_slim_df['Tumor Volume (mm3)']\n",
    "tumor_summary_base_df['Median TV'] = summary_slim_df['Tumor Volume (mm3)']\n",
    "tumor_summary_base_df['Variance TV'] = summary_slim_df['Tumor Volume (mm3)']\n",
    "tumor_summary_base_df['STD TV'] = summary_slim_df['Tumor Volume (mm3)']\n",
    "tumor_summary_base_df['SEM TV'] = summary_slim_df['Tumor Volume (mm3)']\n",
    "\n",
    "summary_df = tumor_summary_base_df.groupby(['Drug Regimen']).agg({'Mean TV' : 'mean',\n",
    "                                                                 'Median TV' : 'median',\n",
    "                                                                 'Variance TV' : np.var,\n",
    "                                                                 'STD TV' : np.std,\n",
    "                                                                 'SEM TV' : 'sem'})\n",
    "summary_df"
   ]
  },
  {
   "cell_type": "code",
   "execution_count": 4,
   "metadata": {},
   "outputs": [
    {
     "data": {
      "image/png": "[encoded data removed]",
      "text/plain": [
       "<Figure size 432x288 with 1 Axes>"
      ]
     },
     "metadata": {
      "needs_background": "light"
     },
     "output_type": "display_data"
    }
   ],
   "source": [
    "# Pandas Bar Chart - bar plot showing number of data points for each treatment regimen\n",
    "plt.close()\n",
    "reg_vs_dPQ = raw_df[['Drug Regimen', 'Tumor Volume (mm3)']].copy()\n",
    "RvQ_df = reg_vs_dPQ.groupby(['Drug Regimen']).agg({'Tumor Volume (mm3)' : 'count'}).copy()\n",
    "RvQ_df = RvQ_df.rename(columns={\"Tumor Volume (mm3)\": \"Data Point Count\"})\n",
    "\n",
    "RvQ_df.plot(kind='bar', title='Quantity of Data Points per Drug')\n",
    "plt.ylabel('Num of Data Points')\n",
    "plt.show()"
   ]
  },
  {
   "cell_type": "code",
   "execution_count": 5,
   "metadata": {},
   "outputs": [
    {
     "data": {
      "image/png": "[encoded data removed]",
      "text/plain": [
       "<Figure size 432x288 with 1 Axes>"
      ]
     },
     "metadata": {
      "needs_background": "light"
     },
     "output_type": "display_data"
    }
   ],
   "source": [
    "# plt bar chart - bar plot showing number of data points for each treatment regimen\n",
    "plt.close()\n",
    "x_axis = np.arange(len(raw_df['Drug Regimen'].unique()))\n",
    "tick_locations = [value for value in x_axis]\n",
    "\n",
    "plt.bar(x_axis, RvQ_df['Data Point Count'], color='g', alpha=0.5, align=\"center\")\n",
    "plt.xticks(tick_locations, RvQ_df.index.values, rotation=\"vertical\")\n",
    "plt.ylabel('Num of Data Points')\n",
    "plt.title('Quantity of Data Points per Drug')\n",
    "plt.legend(labels=['Quantity'], loc='upper center')\n",
    "\n",
    "plt.show()"
   ]
  },
  {
   "cell_type": "code",
   "execution_count": 6,
   "metadata": {},
   "outputs": [
    {
     "data": {
      "image/png": "[encoded data removed]",
      "text/plain": [
       "<Figure size 432x288 with 1 Axes>"
      ]
     },
     "metadata": {},
     "output_type": "display_data"
    }
   ],
   "source": [
    "# pandas pie chart\n",
    "plt.close()\n",
    "MvsF_df = raw_df[['Mouse ID', 'Sex']].copy()\n",
    "MvsF_df = MvsF_df.groupby(['Sex']).agg({'Mouse ID' : 'count'})\n",
    "MvsF_df = MvsF_df.rename(columns={\"Mouse ID\": \"Count\"})\n",
    "MvsF_df.plot(kind='pie', y='Count' , title='Gender vs Number of Mice', labeldistance=.4, autopct='%1.1f%%')\n",
    "\n",
    "plt.show()"
   ]
  },
  {
   "cell_type": "code",
   "execution_count": 7,
   "metadata": {},
   "outputs": [
    {
     "data": {
      "image/png": "[encoded data removed]",
      "text/plain": [
       "<Figure size 432x288 with 1 Axes>"
      ]
     },
     "metadata": {},
     "output_type": "display_data"
    }
   ],
   "source": [
    "# plt pie chart\n",
    "plt.close()\n",
    "plt.pie(MvsF_df['Count'], labels=MvsF_df.index.values,  autopct='%1.1f%%', labeldistance=.4)\n",
    "plt.title('Gender vs Number of Mice')\n",
    "plt.legend()\n",
    "\n",
    "plt.show()"
   ]
  },
  {
   "cell_type": "code",
   "execution_count": 8,
   "metadata": {},
   "outputs": [
    {
     "data": {
      "text/html": [
       "<div>\n",
       "<style scoped>\n",
       "    .dataframe tbody tr th:only-of-type {\n",
       "        vertical-align: middle;\n",
       "    }\n",
       "\n",
       "    .dataframe tbody tr th {\n",
       "        vertical-align: top;\n",
       "    }\n",
       "\n",
       "    .dataframe thead th {\n",
       "        text-align: right;\n",
       "    }\n",
       "</style>\n",
       "<table border=\"1\" class=\"dataframe\">\n",
       "  <thead>\n",
       "    <tr style=\"text-align: right;\">\n",
       "      <th></th>\n",
       "      <th>Avg Change in TV</th>\n",
       "    </tr>\n",
       "    <tr>\n",
       "      <th>Drug Regimen</th>\n",
       "      <th></th>\n",
       "    </tr>\n",
       "  </thead>\n",
       "  <tbody>\n",
       "    <tr>\n",
       "      <th>Ramicane</th>\n",
       "      <td>8.808610</td>\n",
       "    </tr>\n",
       "    <tr>\n",
       "      <th>Capomulin</th>\n",
       "      <td>8.332432</td>\n",
       "    </tr>\n",
       "    <tr>\n",
       "      <th>Propriva</th>\n",
       "      <td>-11.736964</td>\n",
       "    </tr>\n",
       "    <tr>\n",
       "      <th>Ceftamin</th>\n",
       "      <td>-12.753977</td>\n",
       "    </tr>\n",
       "  </tbody>\n",
       "</table>\n",
       "</div>"
      ],
      "text/plain": [
       "              Avg Change in TV\n",
       "Drug Regimen                  \n",
       "Ramicane              8.808610\n",
       "Capomulin             8.332432\n",
       "Propriva            -11.736964\n",
       "Ceftamin            -12.753977"
      ]
     },
     "execution_count": 8,
     "metadata": {},
     "output_type": "execute_result"
    }
   ],
   "source": [
    "base_promising_df = raw_df[['Mouse ID', 'Drug Regimen', 'Timepoint', 'Tumor Volume (mm3)']].copy()\n",
    "mice_max_time = base_promising_df.groupby('Mouse ID', as_index=False).agg({'Timepoint' : 'max',\n",
    "                                                                          'Tumor Volume (mm3)' : 'last',\n",
    "                                                                          'Drug Regimen' : 'first'})\n",
    "mice_max_time = mice_max_time.rename(columns={'Timepoint' : 'Max Timepoint'})\n",
    "mice_min_time = base_promising_df.groupby('Mouse ID', as_index=False).agg({'Timepoint' : 'min',\n",
    "                                                                          'Tumor Volume (mm3)' : 'first',\n",
    "                                                                          'Drug Regimen' : 'first'})\n",
    "mice_min_time = mice_min_time.rename(columns={'Timepoint' : 'Min Timepoint'})\n",
    "grup_promis_df = mice_min_time.copy()\n",
    "grup_promis_df['Tumor Volume (mm3)'] = grup_promis_df['Tumor Volume (mm3)'] - mice_max_time['Tumor Volume (mm3)']\n",
    "grup_promis_df['Avg Change in TV'] = grup_promis_df['Tumor Volume (mm3)']\n",
    "promis_df = grup_promis_df.groupby('Drug Regimen').agg({'Avg Change in TV' : 'mean'})\n",
    "promis_df = promis_df.sort_values('Avg Change in TV', ascending=False).head(4)\n",
    "promisingDrugs = promis_df.index.values\n",
    "promis_df\n",
    "# the higher the number, the less turmor was left at the end of the trial\n",
    "# negitive values shows an INCREASE in Tumor vol"
   ]
  },
  {
   "cell_type": "code",
   "execution_count": 9,
   "metadata": {},
   "outputs": [
    {
     "data": {
      "text/html": [
       "<div>\n",
       "<style scoped>\n",
       "    .dataframe tbody tr th:only-of-type {\n",
       "        vertical-align: middle;\n",
       "    }\n",
       "\n",
       "    .dataframe tbody tr th {\n",
       "        vertical-align: top;\n",
       "    }\n",
       "\n",
       "    .dataframe thead th {\n",
       "        text-align: right;\n",
       "    }\n",
       "</style>\n",
       "<table border=\"1\" class=\"dataframe\">\n",
       "  <thead>\n",
       "    <tr style=\"text-align: right;\">\n",
       "      <th></th>\n",
       "      <th>Mouse ID</th>\n",
       "      <th>Drug Regimen</th>\n",
       "      <th>Timepoint</th>\n",
       "      <th>Tumor Volume (mm3)</th>\n",
       "    </tr>\n",
       "  </thead>\n",
       "  <tbody>\n",
       "    <tr>\n",
       "      <th>0</th>\n",
       "      <td>k403</td>\n",
       "      <td>Ramicane</td>\n",
       "      <td>0</td>\n",
       "      <td>45.000000</td>\n",
       "    </tr>\n",
       "    <tr>\n",
       "      <th>1</th>\n",
       "      <td>k403</td>\n",
       "      <td>Ramicane</td>\n",
       "      <td>5</td>\n",
       "      <td>38.825898</td>\n",
       "    </tr>\n",
       "    <tr>\n",
       "      <th>2</th>\n",
       "      <td>k403</td>\n",
       "      <td>Ramicane</td>\n",
       "      <td>10</td>\n",
       "      <td>35.014271</td>\n",
       "    </tr>\n",
       "    <tr>\n",
       "      <th>3</th>\n",
       "      <td>k403</td>\n",
       "      <td>Ramicane</td>\n",
       "      <td>15</td>\n",
       "      <td>34.223992</td>\n",
       "    </tr>\n",
       "    <tr>\n",
       "      <th>4</th>\n",
       "      <td>k403</td>\n",
       "      <td>Ramicane</td>\n",
       "      <td>20</td>\n",
       "      <td>32.997729</td>\n",
       "    </tr>\n",
       "    <tr>\n",
       "      <th>...</th>\n",
       "      <td>...</td>\n",
       "      <td>...</td>\n",
       "      <td>...</td>\n",
       "      <td>...</td>\n",
       "    </tr>\n",
       "    <tr>\n",
       "      <th>1854</th>\n",
       "      <td>y865</td>\n",
       "      <td>Ceftamin</td>\n",
       "      <td>40</td>\n",
       "      <td>63.469549</td>\n",
       "    </tr>\n",
       "    <tr>\n",
       "      <th>1855</th>\n",
       "      <td>y865</td>\n",
       "      <td>Ceftamin</td>\n",
       "      <td>45</td>\n",
       "      <td>64.729837</td>\n",
       "    </tr>\n",
       "    <tr>\n",
       "      <th>1860</th>\n",
       "      <td>z435</td>\n",
       "      <td>Propriva</td>\n",
       "      <td>0</td>\n",
       "      <td>45.000000</td>\n",
       "    </tr>\n",
       "    <tr>\n",
       "      <th>1861</th>\n",
       "      <td>z435</td>\n",
       "      <td>Propriva</td>\n",
       "      <td>5</td>\n",
       "      <td>47.115980</td>\n",
       "    </tr>\n",
       "    <tr>\n",
       "      <th>1862</th>\n",
       "      <td>z435</td>\n",
       "      <td>Propriva</td>\n",
       "      <td>10</td>\n",
       "      <td>48.710661</td>\n",
       "    </tr>\n",
       "  </tbody>\n",
       "</table>\n",
       "<p>797 rows × 4 columns</p>\n",
       "</div>"
      ],
      "text/plain": [
       "     Mouse ID Drug Regimen  Timepoint  Tumor Volume (mm3)\n",
       "0        k403     Ramicane          0           45.000000\n",
       "1        k403     Ramicane          5           38.825898\n",
       "2        k403     Ramicane         10           35.014271\n",
       "3        k403     Ramicane         15           34.223992\n",
       "4        k403     Ramicane         20           32.997729\n",
       "...       ...          ...        ...                 ...\n",
       "1854     y865     Ceftamin         40           63.469549\n",
       "1855     y865     Ceftamin         45           64.729837\n",
       "1860     z435     Propriva          0           45.000000\n",
       "1861     z435     Propriva          5           47.115980\n",
       "1862     z435     Propriva         10           48.710661\n",
       "\n",
       "[797 rows x 4 columns]"
      ]
     },
     "execution_count": 9,
     "metadata": {},
     "output_type": "execute_result"
    }
   ],
   "source": [
    "prom_drug_all_df = base_promising_df.loc[(raw_df['Drug Regimen'] == promisingDrugs[0]) | \n",
    "                              (raw_df['Drug Regimen'] == promisingDrugs[1]) | \n",
    "                              (raw_df['Drug Regimen'] == promisingDrugs[2]) | \n",
    "                              (raw_df['Drug Regimen'] == promisingDrugs[3]), :].copy()\n",
    "\n",
    "prom_drug_Ram_df = base_promising_df.loc[(raw_df['Drug Regimen'] == promisingDrugs[0]), :].copy()\n",
    "prom_drug_Cap_df = base_promising_df.loc[(raw_df['Drug Regimen'] == promisingDrugs[1]), :].copy()\n",
    "prom_drug_Prop_df = base_promising_df.loc[(raw_df['Drug Regimen'] == promisingDrugs[2]), :].copy()\n",
    "prom_drug_Ceft_df = base_promising_df.loc[(raw_df['Drug Regimen'] == promisingDrugs[3]), :].copy()\n",
    "\n",
    "prom_drug_dfs = [prom_drug_Ram_df,\n",
    "                prom_drug_Cap_df,\n",
    "                prom_drug_Prop_df,\n",
    "                prom_drug_Ceft_df]\n",
    "\n",
    "prom_drug_all_df"
   ]
  },
  {
   "cell_type": "code",
   "execution_count": 10,
   "metadata": {},
   "outputs": [
    {
     "name": "stdout",
     "output_type": "stream",
     "text": [
      "Drug : Ramicane\n",
      "\n",
      "The lower quartile is: 36.67463458499999\n",
      "The upper quartile is: 45.0\n",
      "The interquartile range is: 8.325365415000007\n",
      "The the median of is: 40.67323554 \n",
      "Values below 24.18658646249998 could be outliers.\n",
      "Values above 57.48804812250001 could be outliers.\n",
      "\n",
      "-------------------------------------------------\n",
      "\n",
      "Drug : Capomulin\n",
      "\n",
      "The lower quartile is: 37.685932865\n",
      "The upper quartile is: 45.0\n",
      "The interquartile range is: 7.314067135000002\n",
      "The the median of is: 41.557808879999996 \n",
      "Values below 26.714832162499995 could be outliers.\n",
      "Values above 55.9711007025 could be outliers.\n",
      "\n",
      "-------------------------------------------------\n",
      "\n",
      "Drug : Propriva\n",
      "\n",
      "The lower quartile is: 47.0810859\n",
      "The upper quartile is: 56.18466399\n",
      "The interquartile range is: 9.10357809\n",
      "The the median of is: 50.8546323 \n",
      "Values below 33.425718765 could be outliers.\n",
      "Values above 69.840031125 could be outliers.\n",
      "\n",
      "-------------------------------------------------\n",
      "\n",
      "Drug : Ceftamin\n",
      "\n",
      "The lower quartile is: 47.208427112500004\n",
      "The upper quartile is: 56.801437570000004\n",
      "The interquartile range is: 9.5930104575\n",
      "The the median of is: 51.77615728000001 \n",
      "Values below 32.818911426250004 could be outliers.\n",
      "Values above 71.19095325625 could be outliers.\n",
      "\n",
      "-------------------------------------------------\n",
      "\n"
     ]
    }
   ],
   "source": [
    "for df in prom_drug_dfs:    \n",
    "    drugName = df['Drug Regimen'].unique()\n",
    "    drugName[0]\n",
    "\n",
    "    data = df['Tumor Volume (mm3)']\n",
    "\n",
    "    quartiles = data.quantile([.25,.5,.75])\n",
    "    lowerq = quartiles[0.25]\n",
    "    upperq = quartiles[0.75]\n",
    "    iqr = upperq-lowerq\n",
    "    lower_bound = lowerq - (1.5*iqr)\n",
    "    upper_bound = upperq + (1.5*iqr)\n",
    "    print(f'Drug : {drugName[0]}\\n')\n",
    "    print(f\"The lower quartile is: {lowerq}\")\n",
    "    print(f\"The upper quartile is: {upperq}\")\n",
    "    print(f\"The interquartile range is: {iqr}\")\n",
    "    print(f\"The the median of is: {quartiles[0.5]} \")\n",
    "    print(f\"Values below {lower_bound} could be outliers.\")\n",
    "    print(f\"Values above {upper_bound} could be outliers.\")\n",
    "    \n",
    "    print('\\n-------------------------------------------------\\n')"
   ]
  },
  {
   "cell_type": "code",
   "execution_count": 11,
   "metadata": {},
   "outputs": [],
   "source": [
    "final_vol_Ram_df = mice_max_time.loc[(mice_max_time['Drug Regimen'] == promisingDrugs[0]), :].copy()\n",
    "final_vol_Cap_df = mice_max_time.loc[(mice_max_time['Drug Regimen'] == promisingDrugs[1]), :].copy()\n",
    "final_vol_Prop_df = mice_max_time.loc[(mice_max_time['Drug Regimen'] == promisingDrugs[2]), :].copy()\n",
    "final_vol_Ceft_df = mice_max_time.loc[(mice_max_time['Drug Regimen'] == promisingDrugs[3]), :].copy()"
   ]
  },
  {
   "cell_type": "code",
   "execution_count": 12,
   "metadata": {},
   "outputs": [
    {
     "data": {
      "image/png": "[encoded data removed]",
      "text/plain": [
       "<Figure size 432x288 with 4 Axes>"
      ]
     },
     "metadata": {
      "needs_background": "light"
     },
     "output_type": "display_data"
    }
   ],
   "source": [
    "plt.close()\n",
    "red_square = dict(markerfacecolor='r', marker='s')\n",
    "\n",
    "data = final_vol_Ram_df['Tumor Volume (mm3)']\n",
    "fig, (ax1, ax2, ax3, ax4) = plt.subplots(1,4, sharey=True, gridspec_kw=dict(wspace=.4))\n",
    "ax1.set_title(promisingDrugs[0])\n",
    "ax1.set_ylabel('Final Tumor Vol')\n",
    "ax1.boxplot(data, showfliers=True, flierprops=red_square)\n",
    "\n",
    "data = final_vol_Cap_df['Tumor Volume (mm3)']\n",
    "ax2.set_title(promisingDrugs[1])\n",
    "ax2.set_ylabel('Final Tumor Vol')\n",
    "ax2.boxplot(data, showfliers=True, flierprops=red_square)\n",
    "\n",
    "data = final_vol_Prop_df['Tumor Volume (mm3)']\n",
    "ax3.set_title(promisingDrugs[2])\n",
    "ax3.set_ylabel('Final Tumor Vol')\n",
    "ax3.boxplot(data, showfliers=True, flierprops=red_square)\n",
    "\n",
    "data = final_vol_Ceft_df['Tumor Volume (mm3)']\n",
    "ax4.set_title(promisingDrugs[3])\n",
    "ax4.set_ylabel('Final Tumor Vol')\n",
    "ax4.boxplot(data, showfliers=True, flierprops=red_square)\n",
    "\n",
    "plt.show()"
   ]
  },
  {
   "cell_type": "code",
   "execution_count": 13,
   "metadata": {},
   "outputs": [],
   "source": [
    "cap_df = prom_drug_Cap_df.copy()\n",
    "cap_mice_base = cap_df.drop_duplicates(['Mouse ID']).copy()\n",
    "cap_mice = cap_mice_base[\"Mouse ID\"].reset_index(drop=True)\n",
    "lucky_mouse = cap_mice[13]"
   ]
  },
  {
   "cell_type": "code",
   "execution_count": 14,
   "metadata": {},
   "outputs": [
    {
     "data": {
      "image/png": "[encoded data removed]",
      "text/plain": [
       "<Figure size 432x288 with 1 Axes>"
      ]
     },
     "metadata": {
      "needs_background": "light"
     },
     "output_type": "display_data"
    }
   ],
   "source": [
    "# Line and scatter plots\n",
    "plt.close()\n",
    "mouse_data = cap_df.loc[cap_df['Mouse ID'] == lucky_mouse, :]\n",
    "mouse_data\n",
    "x_vals = mouse_data['Timepoint']\n",
    "y_vals = mouse_data['Tumor Volume (mm3)']\n",
    "\n",
    "plt.plot(x_vals, y_vals, color='red')\n",
    "plt.title('Time point versus tumor volume for a mouse treated with Capomulin')\n",
    "plt.xlabel('Time')\n",
    "plt.ylabel('Tumor Vol')\n",
    "plt.legend(labels=[f'Mouse ID : {lucky_mouse}'], loc='upper right')\n",
    "\n",
    "plt.show()"
   ]
  },
  {
   "cell_type": "code",
   "execution_count": 15,
   "metadata": {},
   "outputs": [],
   "source": [
    "cap_temp_df = raw_df.loc[(raw_df['Drug Regimen'] == promisingDrugs[1]), :].copy()\n",
    "cap_weight_df = cap_df\n",
    "cap_weight_df['Weight (g)'] = cap_temp_df['Weight (g)']"
   ]
  },
  {
   "cell_type": "code",
   "execution_count": 16,
   "metadata": {},
   "outputs": [
    {
     "data": {
      "image/png": "[encoded data removed]",
      "text/plain": [
       "<Figure size 432x288 with 1 Axes>"
      ]
     },
     "metadata": {
      "needs_background": "light"
     },
     "output_type": "display_data"
    }
   ],
   "source": [
    "plt.close()\n",
    "x_vals = cap_weight_df['Weight (g)']\n",
    "y_vals = cap_weight_df['Tumor Volume (mm3)']\n",
    "plt.scatter(x_vals, y_vals)\n",
    "plt.xlabel('Weight in grams')\n",
    "plt.ylabel('Tumor Volume in mm^3')\n",
    "plt.title('Weight vs Tumor Vol For Capomulin')\n",
    "plt.legend(labels=['A mouse'], loc='lower right')\n",
    "\n",
    "plt.show()"
   ]
  },
  {
   "cell_type": "code",
   "execution_count": 17,
   "metadata": {},
   "outputs": [
    {
     "name": "stdout",
     "output_type": "stream",
     "text": [
      "The correlation between both factors is 0.53\n"
     ]
    }
   ],
   "source": [
    "correlation = st.pearsonr(x_vals, y_vals)\n",
    "print(f\"The correlation between both factors is {round(correlation[0],2)}\")"
   ]
  },
  {
   "cell_type": "code",
   "execution_count": 18,
   "metadata": {},
   "outputs": [
    {
     "name": "stdout",
     "output_type": "stream",
     "text": [
      "y = 0.96x + 21.49\n",
      "The r-squared is: 0.5256995552077166\n"
     ]
    }
   ],
   "source": [
    "(slope, intercept, rvalue, pvalue, stderr) = linregress(x_vals, y_vals)\n",
    "regress_values = x_vals * slope + intercept\n",
    "line_eq = \"y = \" + str(round(slope,2)) + \"x + \" + str(round(intercept,2))\n",
    "print(line_eq)\n",
    "print(f\"The r-squared is: {rvalue}\")"
   ]
  },
  {
   "cell_type": "code",
   "execution_count": 19,
   "metadata": {},
   "outputs": [
    {
     "data": {
      "image/png": "[encoded data removed]",
      "text/plain": [
       "<Figure size 432x288 with 1 Axes>"
      ]
     },
     "metadata": {
      "needs_background": "light"
     },
     "output_type": "display_data"
    }
   ],
   "source": [
    "plt.close()\n",
    "x_vals = cap_weight_df['Weight (g)']\n",
    "y_vals = cap_weight_df['Tumor Volume (mm3)']\n",
    "plt.scatter(x_vals, y_vals)\n",
    "plt.xlabel('Weight in grams')\n",
    "plt.ylabel('Tumor Volume in mm^3')\n",
    "plt.title('Weight vs Tumor Vol For Capomulin')\n",
    "plt.plot(x_vals, regress_values, \"r-\")\n",
    "plt.legend(labels=['Correlation line', 'A mouse'], loc='lower right')\n",
    "\n",
    "plt.show()"
   ]
  },
  {
   "cell_type": "code",
   "execution_count": null,
   "metadata": {},
   "outputs": [],
   "source": []
  }
 ],
 "metadata": {
  "kernelspec": {
   "display_name": "Python 3",
   "language": "python",
   "name": "python3"
  },
  "language_info": {
   "codemirror_mode": {
    "name": "ipython",
    "version": 3
   },
   "file_extension": ".py",
   "mimetype": "text/x-python",
   "name": "python",
   "nbconvert_exporter": "python",
   "pygments_lexer": "ipython3",
   "version": "3.7.6"
  }
 },
 "nbformat": 4,
 "nbformat_minor": 4
}
